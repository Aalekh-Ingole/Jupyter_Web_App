{
 "cells": [
  {
   "cell_type": "code",
   "execution_count": 20,
   "id": "binding-glance",
   "metadata": {},
   "outputs": [],
   "source": [
    "import warnings\n",
    "warnings.filterwarnings('ignore')\n",
    "\n",
    "import ipywidgets as widgets\n",
    "from IPython.display import display"
   ]
  },
  {
   "cell_type": "code",
   "execution_count": 21,
   "id": "informal-powell",
   "metadata": {},
   "outputs": [
    {
     "name": "stderr",
     "output_type": "stream",
     "text": [
      "Enabling notebook extension jupyter-js-widgets/extension...\n",
      "      - Validating: ok\n",
      "Enabling: voila\n",
      "- Writing config: c:\\users\\nghwe\\desktop\\github\\jupyter_webapp_demo\\jupyter_webapp_venv\\etc\\jupyter\n",
      "    - Validating...\n",
      "      voila 0.2.6 ok\n"
     ]
    }
   ],
   "source": [
    "!jupyter nbextension enable --py widgetsnbextension --sys-prefix\n",
    "!jupyter serverextension enable voila --sys-prefix"
   ]
  },
  {
   "cell_type": "code",
   "execution_count": 22,
   "id": "reflected-speaker",
   "metadata": {},
   "outputs": [
    {
     "data": {
      "application/vnd.jupyter.widget-view+json": {
       "model_id": "1a2b56e526bf488088a33abccb92bb2c",
       "version_major": 2,
       "version_minor": 0
      },
      "text/plain": [
       "VBox(children=(Image(value=b'\\xff\\xd8\\xff\\xe0\\x00\\x10JFIF\\x00\\x01\\x01\\x01\\x00H\\x00H\\x00\\x00\\xff\\xe2\\x02\\x1cICC…"
      ]
     },
     "metadata": {},
     "output_type": "display_data"
    }
   ],
   "source": [
    "# Image Widget\n",
    "\n",
    "file = open(\"grandma.jpg\", \"rb\")\n",
    "image = file.read()\n",
    "\n",
    "image_headline = widgets.Image(\n",
    "    value=image,\n",
    "    format='jpg',\n",
    "    width='initial'\n",
    ")\n",
    "\n",
    "label_headline = widgets.Label(\n",
    "                    value='Photo by CDC on Unsplash',\n",
    "                    style={'description_width': 'initial'},\n",
    ")\n",
    "\n",
    "vbox_headline = widgets.VBox([image_headline, label_headline])\n",
    "\n",
    "display(vbox_headline)"
   ]
  },
  {
   "cell_type": "markdown",
   "id": "breeding-medication",
   "metadata": {},
   "source": [
    "# Dear Grandma! This is your favourite"
   ]
  },
  {
   "cell_type": "code",
   "execution_count": 29,
   "id": "reverse-belfast",
   "metadata": {},
   "outputs": [
    {
     "data": {
      "application/vnd.jupyter.widget-view+json": {
       "model_id": "4c959ec6a26d4ef293042b080be38add",
       "version_major": 2,
       "version_minor": 0
      },
      "text/plain": [
       "ToggleButtons(options=('Grandson', 'Granddaughter'), value='Grandson')"
      ]
     },
     "metadata": {},
     "output_type": "display_data"
    }
   ],
   "source": [
    "# grandson/granddaughter\n",
    "\n",
    "grand = widgets.ToggleButtons(\n",
    "            options=['Grandson', 'Granddaughter']\n",
    "        )\n",
    "display(grand)"
   ]
  },
  {
   "cell_type": "code",
   "execution_count": 30,
   "id": "bearing-lover",
   "metadata": {},
   "outputs": [
    {
     "data": {
      "application/vnd.jupyter.widget-view+json": {
       "model_id": "6d710f98a02b48cb8b81c891fad61093",
       "version_major": 2,
       "version_minor": 0
      },
      "text/plain": [
       "Text(value='', placeholder='Your name here')"
      ]
     },
     "metadata": {},
     "output_type": "display_data"
    }
   ],
   "source": [
    "# name\n",
    "\n",
    "name = widgets.Text(\n",
    "                    value='',\n",
    "                    placeholder='Your name here',\n",
    "                    description='',\n",
    "                    disabled=False\n",
    "                )\n",
    "display(name)"
   ]
  },
  {
   "cell_type": "markdown",
   "id": "elect-shock",
   "metadata": {},
   "source": [
    "# I would love to come over on"
   ]
  },
  {
   "cell_type": "code",
   "execution_count": 31,
   "id": "headed-bloom",
   "metadata": {},
   "outputs": [
    {
     "data": {
      "application/vnd.jupyter.widget-view+json": {
       "model_id": "80bf3793d4844bafa4ff899ca425a400",
       "version_major": 2,
       "version_minor": 0
      },
      "text/plain": [
       "DatePicker(value=None, description='Pick a Date')"
      ]
     },
     "metadata": {},
     "output_type": "display_data"
    }
   ],
   "source": [
    "date = widgets.DatePicker(\n",
    "                description='Pick a Date',\n",
    "                disabled=False\n",
    "            )\n",
    "display(date)"
   ]
  },
  {
   "cell_type": "markdown",
   "id": "environmental-violence",
   "metadata": {},
   "source": [
    "# for dinner, if that's okay for you!"
   ]
  },
  {
   "cell_type": "markdown",
   "id": "complimentary-speaker",
   "metadata": {},
   "source": [
    "# Also, if you don't mind, I'll bring along "
   ]
  },
  {
   "cell_type": "code",
   "execution_count": 32,
   "id": "naval-night",
   "metadata": {},
   "outputs": [
    {
     "data": {
      "application/vnd.jupyter.widget-view+json": {
       "model_id": "dec0fa50cb274f9582c457f63d7525f0",
       "version_major": 2,
       "version_minor": 0
      },
      "text/plain": [
       "IntSlider(value=3, max=10, style=SliderStyle(description_width='initial', handle_color='#16a085'))"
      ]
     },
     "metadata": {},
     "output_type": "display_data"
    }
   ],
   "source": [
    "# number of friends\n",
    "\n",
    "friends = widgets.IntSlider(\n",
    "                        value=3, # default value\n",
    "                        min=0, \n",
    "                        max=10,\n",
    "                        step=1,\n",
    "                        style={'description_width': 'initial', 'handle_color': '#16a085'}, \n",
    "                    )\n",
    "display(friends)"
   ]
  },
  {
   "cell_type": "markdown",
   "id": "clinical-remainder",
   "metadata": {},
   "source": [
    "# hungry ghosts for your delicious food!"
   ]
  },
  {
   "cell_type": "code",
   "execution_count": 37,
   "id": "thorough-royal",
   "metadata": {},
   "outputs": [
    {
     "data": {
      "application/vnd.jupyter.widget-view+json": {
       "model_id": "3c078db0c1b14e2bb854ff6f13c55e98",
       "version_major": 2,
       "version_minor": 0
      },
      "text/plain": [
       "Button(button_style='info', description='Send to grandma', layout=Layout(width='auto'), style=ButtonStyle(), t…"
      ]
     },
     "metadata": {},
     "output_type": "display_data"
    },
    {
     "name": "stdout",
     "output_type": "stream",
     "text": [
      "Dear Grandma! This is your favourite Granddaughter, Claire.\n",
      "I would love to come over on 2021-02-27 for dinner, if that's okay for you!\n",
      "Also, if you don't mind, I'll bring along 7 hungry ghosts for your delicious food!\n"
     ]
    }
   ],
   "source": [
    "# button send\n",
    "\n",
    "button_send = widgets.Button(\n",
    "                    description='Send to grandma',\n",
    "                    disabled=False,\n",
    "                    button_style='info', # 'success', 'info', 'warning', 'danger' or ''\n",
    "                    tooltip='Send',\n",
    "                    icon='',\n",
    "                    style={'description_width': 'initial'},\n",
    "                    layout={'width': 'auto'}\n",
    "                )\n",
    "\n",
    "def on_button_clicked(event):\n",
    "    print(f\"Dear Grandma! This is your favourite {grand.value}, {name.value}.\\n\"+\n",
    "    f\"I would love to come over on {date.value} for dinner, if that's okay for you!\\n\"+\n",
    "    f\"Also, if you don't mind, I'll bring along {friends.value} hungry ghosts for your delicious food!\")\n",
    "\n",
    "button_send.on_click(on_button_clicked)\n",
    "\n",
    "display(button_send)"
   ]
  },
  {
   "cell_type": "code",
   "execution_count": null,
   "id": "specified-tours",
   "metadata": {},
   "outputs": [],
   "source": []
  }
 ],
 "metadata": {
  "kernelspec": {
   "display_name": "Python 3",
   "language": "python",
   "name": "python3"
  },
  "language_info": {
   "codemirror_mode": {
    "name": "ipython",
    "version": 3
   },
   "file_extension": ".py",
   "mimetype": "text/x-python",
   "name": "python",
   "nbconvert_exporter": "python",
   "pygments_lexer": "ipython3",
   "version": "3.8.7"
  }
 },
 "nbformat": 4,
 "nbformat_minor": 5
}
